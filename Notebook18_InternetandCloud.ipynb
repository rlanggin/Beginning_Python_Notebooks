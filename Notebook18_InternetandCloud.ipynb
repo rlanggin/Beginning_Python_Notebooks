{
 "cells": [
  {
   "cell_type": "markdown",
   "metadata": {},
   "source": [
    "Written by Andrea Lommen and Sorelle Friedler\n",
    "\n",
    "# The internet and the cloud\n",
    "\n",
    "## What is the internet?\n",
    "\n",
    "Even though we use it every day, many people seem uncertain about what exactly the internet is.  Some have described it as \"a series of tubes\" (to great derision).  Past students have described it as \"something that goes through the air\" or \"a collection of servers somewhere.\"\n",
    "\n",
    "What do you think the internet is?\n",
    "\n",
    "## A series of tubes?\n",
    "\n",
    "Take a look at the Daily Show mockery of the internet being described as \"a series of tubes\": <http://www.cc.com/video-clips/uo1ore/the-daily-show-with-jon-stewart-headlines---internet>  \n",
    "then read (or listen to) this NPR show: <http://www.npr.org/2012/05/31/153701673/the-internet-a-series-of-tubes-and-then-some>  \n",
    "* My takeaway from NPR article: \"Internet can be thought of as three separate entities: data centers that store information, Internet exchange points where networks meet to exchange data with each other, and fiber-optic cables that connect all of the information traveling between cities and continents.\"\n",
    "* Here's an animation showing the 555,000 miles of cable underneath the ocean. https://www.youtube.com/watch?v=DKHZKTRyzeg \n",
    "* and read this description of how the internet is fixed when it breaks: <http://www.popsci.com/scitech/article/2009-03/who-protects-intrnet>\n",
    "\n",
    "Maybe it *is* a series of tubes?  <http://www.submarinecablemap.com/>\n",
    "\n",
    "## What is the cloud?\n",
    "\n",
    "But then what about the cloud?  It's a nice metaphor, but it helps us forget the reality.  The reality are data centers that drive the computation of the internet.  Read more here: <https://www.theatlantic.com/technology/archive/2015/11/what-people-mean-when-they-talk-about-the-cloud/413758/> \n",
    "\n",
    "\n",
    "and also check out this article (at least look at the photos!): <https://www.wired.com/2012/10/ff-inside-google-data-center/>\n",
    "\n",
    "My takeaway from that article:\n",
    "* google data centers are LOUD from the cooling system (you need earplugs)\n",
    "* data centers consume 1.5% of the world's electricity\n",
    "\n",
    "## Computational complexity, energy consumption, and the cloud\n",
    "\n",
    "What does all of this have to do with computational complexity?  The efficiency of our programs are directly tied to the energy it takes to run them.  That means that if we write slower code that takes longer to execute, we are directly using more energy.  We forget this sometimes, since more and more often, our longer running programs are executing \"in the cloud.\"\n",
    "\n",
    "Cloud services are always on, using power, and waiting for your command.  That email you archived 5 years ago on Gmail?  There's a server somewhere waiting for you to type a query that will cause it to retrieve the email.  It's saved your email and is using power to make sure you have almost instantaneous access to it, just in case.  Data centers are always on and waiting and spending power.  This costs a lot of money, so the good news is that these data centers are likely more efficient than if you did all this on your personal computer - but it's tricky to calculate, because so many users are aggregated and in order to calculate the real energy cost of, say, retrieving your 5 year old email, you'd need to include the cost of transporting it from always on server node to always on server node across the internet to your computer.  How could you start to think about the environmental toll of a Netflix binge?  Read this: <https://www.theatlantic.com/technology/archive/2015/12/there-are-no-clean-clouds/420744/>\n",
    "* \"The internet is the single biggest thing we are going to build as a species.\"\n",
    "* \"The average amount of power to charge a phone or a laptop is negligible, but the amount of power required to stream a video or use an app on either device invokes services from data centers distributed across the globe, each of which uses energy to perform various processes that travel through the network to the device. One study (weirdly enough, sponsored by the American Coal Association, its purpose to enthuse about how great coal is for technology) estimated that a smartphone streaming an hour of video on a weekly basis uses more power annually than a new refrigerator.\"\n",
    "\n",
    "These cloud services are always on, always using power, and always generating heat.  Which means *more* energy needs to be spent to cool them down!  That's one reason Google has some data centers in Finland.  Take a look: <https://www.wired.com/2012/10/google-finland-data-center-2/>\n",
    "\n"
   ]
  },
  {
   "cell_type": "code",
   "execution_count": 15,
   "metadata": {},
   "outputs": [
    {
     "name": "stdout",
     "output_type": "stream",
     "text": [
      "Evan\n",
      "Dan\n",
      "Shufan\n"
     ]
    }
   ],
   "source": [
    "Name Age City\n",
    "0 Alexa 10 Chicago 1 Bob 12 Rio\n",
    "2 Clarke 13 Tokyo"
   ]
  },
  {
   "cell_type": "code",
   "execution_count": 11,
   "metadata": {},
   "outputs": [
    {
     "name": "stdout",
     "output_type": "stream",
     "text": [
      "10\n",
      "11\n",
      "12\n",
      "13\n",
      "14\n"
     ]
    }
   ],
   "source": []
  },
  {
   "cell_type": "code",
   "execution_count": null,
   "metadata": {},
   "outputs": [],
   "source": []
  }
 ],
 "metadata": {
  "kernelspec": {
   "display_name": "Python 3 (ipykernel)",
   "language": "python",
   "name": "python3"
  },
  "language_info": {
   "codemirror_mode": {
    "name": "ipython",
    "version": 3
   },
   "file_extension": ".py",
   "mimetype": "text/x-python",
   "name": "python",
   "nbconvert_exporter": "python",
   "pygments_lexer": "ipython3",
   "version": "3.9.7"
  }
 },
 "nbformat": 4,
 "nbformat_minor": 1
}
